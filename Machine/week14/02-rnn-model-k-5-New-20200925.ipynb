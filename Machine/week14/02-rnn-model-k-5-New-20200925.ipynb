{
 "cells": [
  {
   "cell_type": "code",
   "execution_count": 2,
   "metadata": {},
   "outputs": [
    {
     "name": "stdout",
     "output_type": "stream",
     "text": [
      "2.5.0\n",
      "\n",
      "Initialized.\n"
     ]
    }
   ],
   "source": [
    "'''\n",
    "Creator : 정지현\n",
    "Date : 2020-09-25\n",
    "Description : 2차년도 LSTM 추천 모델 다듬음\n",
    "Todo : Tensorflow 1.x 버전으로 작성되어서 2.x 버전으로 재작성해야하는데... 후... 하...하하하하라ㅏㄹㅇ하ㅐ라해ㅏㄹㅇ해ㅏㄹㅇ하ㅗㅑ하래ㅗㅇ래ㅑ헝랴ㅐ핼아ㅗ\n",
    "'''\n",
    "\n",
    "import pickle\n",
    "\n",
    "import pandas as pd\n",
    "import numpy as np\n",
    "import scipy.sparse as sp\n",
    "\n",
    "from tqdm import tqdm_notebook as tqdm\n",
    "\n",
    "import tensorflow as tf\n",
    "\n",
    "print(tf.__version__)\n",
    "print('\\nInitialized.')"
   ]
  },
  {
   "cell_type": "markdown",
   "metadata": {},
   "source": [
    "Load already pickled data:"
   ]
  },
  {
   "cell_type": "code",
   "execution_count": 3,
   "metadata": {},
   "outputs": [],
   "source": [
    "# 데이터 불러오기\n",
    "\n",
    "with open('bin/df_retail.bin', 'rb') as f_in:\n",
    "    df = pickle.load(f_in)\n",
    "    \n",
    "#df_cust = pd.read_csv('D:/디효니 폴더 ^_^/DeepLearning_2018/2019 2차년도 연구자료/O2ODeepLearning/코드/dataset/진짜_dataset/temp/')"
   ]
  },
  {
   "cell_type": "code",
   "execution_count": 4,
   "metadata": {},
   "outputs": [],
   "source": [
    "# 데이터 간단한 전처리\n",
    "\n",
    "df.columns = df.columns.str.lower()\n",
    "df = df[~df.invoiceno.astype('str').str.startswith('C')].reset_index(drop=True)\n",
    "df.customerid = df.customerid.fillna(-1).astype('int32')\n",
    "df = df[df.customerid != -1]"
   ]
  },
  {
   "cell_type": "code",
   "execution_count": 5,
   "metadata": {},
   "outputs": [],
   "source": [
    "from sklearn.preprocessing import LabelEncoder"
   ]
  },
  {
   "cell_type": "code",
   "execution_count": 6,
   "metadata": {},
   "outputs": [
    {
     "data": {
      "text/html": [
       "<div>\n",
       "<style scoped>\n",
       "    .dataframe tbody tr th:only-of-type {\n",
       "        vertical-align: middle;\n",
       "    }\n",
       "\n",
       "    .dataframe tbody tr th {\n",
       "        vertical-align: top;\n",
       "    }\n",
       "\n",
       "    .dataframe thead th {\n",
       "        text-align: right;\n",
       "    }\n",
       "</style>\n",
       "<table border=\"1\" class=\"dataframe\">\n",
       "  <thead>\n",
       "    <tr style=\"text-align: right;\">\n",
       "      <th></th>\n",
       "      <th>invoiceno</th>\n",
       "      <th>stockcode</th>\n",
       "      <th>description</th>\n",
       "      <th>quantity</th>\n",
       "      <th>invoicedate</th>\n",
       "      <th>unitprice</th>\n",
       "      <th>customerid</th>\n",
       "      <th>country</th>\n",
       "    </tr>\n",
       "  </thead>\n",
       "  <tbody>\n",
       "    <tr>\n",
       "      <th>0</th>\n",
       "      <td>536365</td>\n",
       "      <td>3233</td>\n",
       "      <td>WHITE HANGING HEART T-LIGHT HOLDER</td>\n",
       "      <td>6</td>\n",
       "      <td>2010-12-01 08:26:00</td>\n",
       "      <td>2.55</td>\n",
       "      <td>17850</td>\n",
       "      <td>United Kingdom</td>\n",
       "    </tr>\n",
       "    <tr>\n",
       "      <th>1</th>\n",
       "      <td>536365</td>\n",
       "      <td>2643</td>\n",
       "      <td>WHITE METAL LANTERN</td>\n",
       "      <td>6</td>\n",
       "      <td>2010-12-01 08:26:00</td>\n",
       "      <td>3.39</td>\n",
       "      <td>17850</td>\n",
       "      <td>United Kingdom</td>\n",
       "    </tr>\n",
       "    <tr>\n",
       "      <th>2</th>\n",
       "      <td>536365</td>\n",
       "      <td>2847</td>\n",
       "      <td>CREAM CUPID HEARTS COAT HANGER</td>\n",
       "      <td>8</td>\n",
       "      <td>2010-12-01 08:26:00</td>\n",
       "      <td>2.75</td>\n",
       "      <td>17850</td>\n",
       "      <td>United Kingdom</td>\n",
       "    </tr>\n",
       "    <tr>\n",
       "      <th>3</th>\n",
       "      <td>536365</td>\n",
       "      <td>2795</td>\n",
       "      <td>KNITTED UNION FLAG HOT WATER BOTTLE</td>\n",
       "      <td>6</td>\n",
       "      <td>2010-12-01 08:26:00</td>\n",
       "      <td>3.39</td>\n",
       "      <td>17850</td>\n",
       "      <td>United Kingdom</td>\n",
       "    </tr>\n",
       "    <tr>\n",
       "      <th>4</th>\n",
       "      <td>536365</td>\n",
       "      <td>2794</td>\n",
       "      <td>RED WOOLLY HOTTIE WHITE HEART.</td>\n",
       "      <td>6</td>\n",
       "      <td>2010-12-01 08:26:00</td>\n",
       "      <td>3.39</td>\n",
       "      <td>17850</td>\n",
       "      <td>United Kingdom</td>\n",
       "    </tr>\n",
       "  </tbody>\n",
       "</table>\n",
       "</div>"
      ],
      "text/plain": [
       "  invoiceno  stockcode                          description  quantity  \\\n",
       "0    536365       3233   WHITE HANGING HEART T-LIGHT HOLDER         6   \n",
       "1    536365       2643                  WHITE METAL LANTERN         6   \n",
       "2    536365       2847       CREAM CUPID HEARTS COAT HANGER         8   \n",
       "3    536365       2795  KNITTED UNION FLAG HOT WATER BOTTLE         6   \n",
       "4    536365       2794       RED WOOLLY HOTTIE WHITE HEART.         6   \n",
       "\n",
       "          invoicedate  unitprice  customerid         country  \n",
       "0 2010-12-01 08:26:00       2.55       17850  United Kingdom  \n",
       "1 2010-12-01 08:26:00       3.39       17850  United Kingdom  \n",
       "2 2010-12-01 08:26:00       2.75       17850  United Kingdom  \n",
       "3 2010-12-01 08:26:00       3.39       17850  United Kingdom  \n",
       "4 2010-12-01 08:26:00       3.39       17850  United Kingdom  "
      ]
     },
     "execution_count": 6,
     "metadata": {},
     "output_type": "execute_result"
    }
   ],
   "source": [
    "# 현재까지는 단순히 각 stockcode를 고유한 index로 변환하는 과정임. 前 파일과 다른 점 없는 듯 함.\n",
    "item_enc = LabelEncoder()\n",
    "df.stockcode = item_enc.fit_transform(df.stockcode.astype('str'))\n",
    "df.stockcode = df.stockcode.astype('int32')\n",
    "df.head()"
   ]
  },
  {
   "cell_type": "code",
   "execution_count": 7,
   "metadata": {},
   "outputs": [],
   "source": [
    "user_enc = LabelEncoder() \n",
    "df.customerid = user_enc.fit_transform(df.customerid)"
   ]
  },
  {
   "cell_type": "markdown",
   "metadata": {},
   "source": [
    "Train-test split:"
   ]
  },
  {
   "cell_type": "code",
   "execution_count": 8,
   "metadata": {},
   "outputs": [],
   "source": [
    "# 데이터 분리\n",
    "df_train = df[df.invoicedate < '2011-10-09'].reset_index(drop=True)\n",
    "df_val = df[(df.invoicedate >= '2011-10-09')].reset_index(drop=True)\n",
    "#df_test = df[df.invoicedate >= '2011-11-09'].reset_index(drop=True)"
   ]
  },
  {
   "cell_type": "code",
   "execution_count": 9,
   "metadata": {},
   "outputs": [
    {
     "data": {
      "text/plain": [
       "((278511, 8), (119413, 8))"
      ]
     },
     "execution_count": 9,
     "metadata": {},
     "output_type": "execute_result"
    }
   ],
   "source": [
    "df_train.shape, df_val.shape#, df_test.shape"
   ]
  },
  {
   "cell_type": "code",
   "execution_count": 10,
   "metadata": {},
   "outputs": [],
   "source": [
    "# invoiceno를 기준으로 데이터셋의 순서를 바꾸지 않은 상태로 customerid만 unique하게 가져옴\n",
    "\n",
    "uid_train = df_train.drop_duplicates(subset='invoiceno').customerid.values\n",
    "uid_val = df_val.drop_duplicates(subset='invoiceno').customerid.values"
   ]
  },
  {
   "cell_type": "code",
   "execution_count": 11,
   "metadata": {},
   "outputs": [
    {
     "data": {
      "text/plain": [
       "array([     0,      7,      9, ..., 278479, 278510, 278511], dtype=int32)"
      ]
     },
     "execution_count": 11,
     "metadata": {},
     "output_type": "execute_result"
    }
   ],
   "source": [
    "# 각 거래가 끝나는 시점을 정의\n",
    "def group_indptr(df):\n",
    "    indptr, = np.where(df.invoiceno != df.invoiceno.shift())\n",
    "    indptr = np.append(indptr, len(df)).astype('int32')\n",
    "    return indptr\n",
    "\n",
    "indptr_train = group_indptr(df_train)\n",
    "indptr_val = group_indptr(df_val)\n",
    "\n",
    "indptr_train"
   ]
  },
  {
   "cell_type": "code",
   "execution_count": 12,
   "metadata": {},
   "outputs": [],
   "source": [
    "# df_train에서 각 상품 코드의 출현 수를 카운트 (기준 모델을 생성하기 위함)\n",
    "from collections import Counter\n",
    "top_train = Counter(df_train.stockcode)"
   ]
  },
  {
   "cell_type": "code",
   "execution_count": 13,
   "metadata": {},
   "outputs": [],
   "source": [
    "# 간단한 기준 모델\n",
    "def baseline(uid, indptr, items, top, k=5):\n",
    "    n_groups = len(uid)\n",
    "    n_items = len(items)\n",
    "\n",
    "    pred_all = np.zeros((n_items, k), dtype=np.int32) # 행 n_items와 열 k로 구성된 0으로 채워진 행렬을 구성함.\n",
    "\n",
    "    for g in range(n_groups): # n_groups의 수만큼 반복, 행만큼 반복\n",
    "        t = top.copy()\n",
    "\n",
    "        start = indptr[g] # 시작 인덱스\n",
    "        end = indptr[g+1] # 끝 인덱스\n",
    "        \n",
    "        for i in range(start, end): # 인덱스 내에서 반복\n",
    "            pred = [k for (k, c) in t.most_common(5)] # most_common은 입력된 값의 요소들 중 빈도수(frequency)가 높은 순으로 \n",
    "                                                        #상위 n개를 리스트(list) 안의 투플(tuple) 형태로 반환한다. \n",
    "                                                        #n을 입력하지 않은 경우, 요소 전체를 [('값', 개수)]의 형태로 반환한다.\n",
    "                                                        #pred는 리스트의 형태로 총 5개의 데이터를 저장하게 된다.\n",
    "            #print(pred)\n",
    "            pred_all[i] = pred\n",
    "            #print(pred_all)\n",
    "\n",
    "            actual = items[i]\n",
    "            if actual in t: # 추천된 항목 중, 하나를 사용자가 구매했다면 앞으로 만들 추천에서 항목 제거\n",
    "                del t[actual]\n",
    "\n",
    "    return pred_all"
   ]
  },
  {
   "cell_type": "code",
   "execution_count": 14,
   "metadata": {},
   "outputs": [],
   "source": [
    "iid_val = df_val.stockcode.values # validation을 위한 아이템을 저장하기 위한 자료형"
   ]
  },
  {
   "cell_type": "code",
   "execution_count": 16,
   "metadata": {},
   "outputs": [],
   "source": [
    "pred_baseline = baseline(uid_val, indptr_val, iid_val, top_train)"
   ]
  },
  {
   "cell_type": "markdown",
   "metadata": {},
   "source": [
    "RNN 기본 모델\n",
    "\n",
    "전처리 준비"
   ]
  },
  {
   "cell_type": "code",
   "execution_count": 19,
   "metadata": {},
   "outputs": [],
   "source": [
    "# 각 트랜잭션이 어디에서 시작하고 어디에서 끝나는지를 알려주는 포인터 배열을 재사용함.\n",
    "def pack_items(users, items_indptr, items_vals):\n",
    "    n = len(items_indptr) - 1\n",
    "\n",
    "    result = []\n",
    "    for i in range(n):\n",
    "        start = items_indptr[i]\n",
    "        end = items_indptr[i+1]\n",
    "        result.append(items_vals[start:end])\n",
    "\n",
    "    return result"
   ]
  },
  {
   "cell_type": "code",
   "execution_count": 20,
   "metadata": {},
   "outputs": [
    {
     "name": "stdout",
     "output_type": "stream",
     "text": [
      "278511\n",
      "13640\n"
     ]
    }
   ],
   "source": [
    "print(len(df_train.stockcode.values))\n",
    "print(len(indptr_train))"
   ]
  },
  {
   "cell_type": "code",
   "execution_count": 21,
   "metadata": {},
   "outputs": [],
   "source": [
    "# train set에서 각 사용자가 구매한 상품을 리스트에 저장\n",
    "train_items = pack_items(indptr_train, indptr_train, df_train.stockcode.values)\n",
    "\n",
    "df_train_wrap = pd.DataFrame()\n",
    "df_train_wrap['customerid'] = uid_train\n",
    "df_train_wrap['items'] = train_items"
   ]
  },
  {
   "cell_type": "code",
   "execution_count": 22,
   "metadata": {},
   "outputs": [
    {
     "data": {
      "text/plain": [
       "13639"
      ]
     },
     "execution_count": 22,
     "metadata": {},
     "output_type": "execute_result"
    }
   ],
   "source": [
    "len(train_items)"
   ]
  },
  {
   "cell_type": "code",
   "execution_count": 23,
   "metadata": {
    "scrolled": true
   },
   "outputs": [
    {
     "data": {
      "text/html": [
       "<div>\n",
       "<style scoped>\n",
       "    .dataframe tbody tr th:only-of-type {\n",
       "        vertical-align: middle;\n",
       "    }\n",
       "\n",
       "    .dataframe tbody tr th {\n",
       "        vertical-align: top;\n",
       "    }\n",
       "\n",
       "    .dataframe thead th {\n",
       "        text-align: right;\n",
       "    }\n",
       "</style>\n",
       "<table border=\"1\" class=\"dataframe\">\n",
       "  <thead>\n",
       "    <tr style=\"text-align: right;\">\n",
       "      <th></th>\n",
       "      <th>customerid</th>\n",
       "      <th>items</th>\n",
       "    </tr>\n",
       "  </thead>\n",
       "  <tbody>\n",
       "    <tr>\n",
       "      <th>0</th>\n",
       "      <td>4017</td>\n",
       "      <td>[3233, 2643, 2847, 2795, 2794, 1601, 751]</td>\n",
       "    </tr>\n",
       "    <tr>\n",
       "      <th>1</th>\n",
       "      <td>4017</td>\n",
       "      <td>[1486, 1485]</td>\n",
       "    </tr>\n",
       "    <tr>\n",
       "      <th>2</th>\n",
       "      <td>534</td>\n",
       "      <td>[3059, 1594, 1597, 1598, 1187, 3114, 1476, 147...</td>\n",
       "    </tr>\n",
       "    <tr>\n",
       "      <th>3</th>\n",
       "      <td>534</td>\n",
       "      <td>[1801, 1755, 1754, 1756]</td>\n",
       "    </tr>\n",
       "    <tr>\n",
       "      <th>4</th>\n",
       "      <td>534</td>\n",
       "      <td>[769]</td>\n",
       "    </tr>\n",
       "  </tbody>\n",
       "</table>\n",
       "</div>"
      ],
      "text/plain": [
       "   customerid                                              items\n",
       "0        4017          [3233, 2643, 2847, 2795, 2794, 1601, 751]\n",
       "1        4017                                       [1486, 1485]\n",
       "2         534  [3059, 1594, 1597, 1598, 1187, 3114, 1476, 147...\n",
       "3         534                           [1801, 1755, 1754, 1756]\n",
       "4         534                                              [769]"
      ]
     },
     "execution_count": 23,
     "metadata": {},
     "output_type": "execute_result"
    }
   ],
   "source": [
    "df_train_wrap.head()"
   ]
  },
  {
   "cell_type": "markdown",
   "metadata": {},
   "source": [
    "### np.pad\n",
    "파라미터로 지정된 리스트의 양쪽에 0을 채우는 연산\n",
    "\n",
    "<b>USAGE</b> : pad_width : {sequence, array_like, int}\n",
    "\n",
    "<b>DESCRIPTION : </b>Number of values padded to the edges of each axis. ((before_1, after_1), … (before_N, after_N)) unique pad widths for each axis. ((before, after),) yields same before and after pad for each axis. (pad,) or int is a shortcut for before = after = pad width for all axes.\n",
    "\n",
    "<b>EXAMPLE : </b>\n",
    "\n",
    "a = [1, 2, 3, 4, 5]\n",
    "\n",
    "np.pad(a, (2, 3), 'constant', constant_values=(4, 6))\n",
    "\n",
    "array([4, 4, 1, ..., 6, 6, 6])\n",
    "\n",
    "contant_values를 4와 6, 그리고 pad_width를 2와 3으로 지정했으므로, 리스트의 앞쪽에 4가 2번, 리스트의 뒤쪽에 6이 3번 들어가게 된다."
   ]
  },
  {
   "cell_type": "code",
   "execution_count": 24,
   "metadata": {},
   "outputs": [],
   "source": [
    "def pad_seq(data, num_steps):\n",
    "    data = np.pad(data, pad_width=(1, 0), mode='constant') # 파라미터로 입력된 리스트 data에 대해 앞쪽에 0을 하나 채움.\n",
    "\n",
    "    n = len(data) # 기존 data의 길이에 +1된 결과를 반환 (0으로 앞쪽이 패딩 되었으므로.)\n",
    "\n",
    "    if n <= num_steps:\n",
    "        pad_right = num_steps - n + 1\n",
    "        data = np.pad(data, pad_width=(0, pad_right), mode='constant') # pad_right의 수만큼 리스트의 오른쪽에 0을 추가함.\n",
    "\n",
    "    return data\n",
    "\n",
    "def prepare_train_data(data, num_steps):\n",
    "    data = pad_seq(data, num_steps)\n",
    "\n",
    "    X = []\n",
    "    Y = []\n",
    "\n",
    "    for i in range(num_steps, len(data)): # i에 들어갈 데이터는 num-steps부터 len(data)까지!\n",
    "        start = i - num_steps\n",
    "        X.append(data[start:i])\n",
    "        Y.append(data[start+1:i+1])\n",
    "\n",
    "    return X, Y"
   ]
  },
  {
   "cell_type": "markdown",
   "metadata": {},
   "source": [
    "텐서플로우 모델 만들어보자... 얼마나 힘들게 만들었는데 2버전으로 어케 바꾸지...;;"
   ]
  },
  {
   "cell_type": "code",
   "execution_count": 25,
   "metadata": {
    "scrolled": true
   },
   "outputs": [
    {
     "ename": "AttributeError",
     "evalue": "module 'tensorflow' has no attribute 'contrib'",
     "output_type": "error",
     "traceback": [
      "\u001b[0;31m---------------------------------------------------------------------------\u001b[0m",
      "\u001b[0;31mAttributeError\u001b[0m                            Traceback (most recent call last)",
      "\u001b[0;32m<ipython-input-25-20c6733e5879>\u001b[0m in \u001b[0;36m<module>\u001b[0;34m\u001b[0m\n\u001b[1;32m      1\u001b[0m \u001b[0;32mimport\u001b[0m \u001b[0mtensorflow\u001b[0m \u001b[0;32mas\u001b[0m \u001b[0mtf\u001b[0m\u001b[0;34m\u001b[0m\u001b[0;34m\u001b[0m\u001b[0m\n\u001b[0;32m----> 2\u001b[0;31m \u001b[0mrnn\u001b[0m \u001b[0;34m=\u001b[0m \u001b[0mtf\u001b[0m\u001b[0;34m.\u001b[0m\u001b[0mcontrib\u001b[0m\u001b[0;34m.\u001b[0m\u001b[0mrnn\u001b[0m \u001b[0;31m# rnn 셀\u001b[0m\u001b[0;34m\u001b[0m\u001b[0;34m\u001b[0m\u001b[0m\n\u001b[0m",
      "\u001b[0;31mAttributeError\u001b[0m: module 'tensorflow' has no attribute 'contrib'"
     ]
    }
   ],
   "source": [
    "import tensorflow as tf\n",
    "rnn = tf.contrib.rnn # rnn 셀"
   ]
  },
  {
   "cell_type": "code",
   "execution_count": 77,
   "metadata": {},
   "outputs": [],
   "source": [
    "class Config:\n",
    "    num_steps = 5\n",
    "\n",
    "    num_items = item_enc.classes_.shape[0] # item 개수\n",
    "    num_users = user_enc.classes_.shape[0] # user 개수\n",
    "\n",
    "    init_scale = 0.1\n",
    "    learning_rate = 1.0 # 학습률\n",
    "    max_grad_norm = 5\n",
    "    num_layers = 2\n",
    "    hidden_size = 200\n",
    "    embedding_size = 200\n",
    "    batch_size = 20\n",
    "\n",
    "config = Config()"
   ]
  },
  {
   "cell_type": "markdown",
   "metadata": {},
   "source": [
    "### extend 함수와 append 함수\n",
    "둘 다 리스트에서 활용이 되며, append 함수는 오브젝트를 리스트의 뒤에 포함하는데에 반해, extend는 리스트의 일원으로서 값을 추가함.\n",
    "\n",
    "<b>예시 : </b>\n",
    "\n",
    "append()는 object를 맨 뒤에 추가합니다.\n",
    "\n",
    "    x = [1, 2, 3]\n",
    "\n",
    "    x.append([4, 5])\n",
    "\n",
    "    print (x)\n",
    "\n",
    "    [1, 2, 3, [4, 5]]\n",
    "\n",
    "extend()는 iterable 객체(리스트, 튜플, 딕셔너리 등)의 엘레멘트를 list에 appending시킵니다.\n",
    "\n",
    "    x = [1, 2, 3]\n",
    "\n",
    "    x.extend([4, 5])\n",
    "\n",
    "    print (x)\n",
    "\n",
    "    [1, 2, 3, 4, 5]"
   ]
  },
  {
   "cell_type": "code",
   "execution_count": 78,
   "metadata": {},
   "outputs": [],
   "source": [
    "# 자세한 이론은 p254 참고할 것.\n",
    "\n",
    "train_items = df_train_wrap['items'] # 각 Customer들이 구매한 상품들을 담은 DataFrame\n",
    "\n",
    "X_train = []\n",
    "Y_train = []\n",
    "\n",
    "for i in range(len(train_items)):\n",
    "    X, Y = prepare_train_data(train_items[i], config.num_steps) # p254 처럼 만드는 작업\n",
    "    X_train.extend(X) # append와 비슷하지만, append와는 확연히 다름.\n",
    "    Y_train.extend(Y)\n",
    "\n",
    "X_train = np.array(X_train, dtype='int32')\n",
    "Y_train = np.array(Y_train, dtype='int32')"
   ]
  },
  {
   "cell_type": "code",
   "execution_count": 79,
   "metadata": {},
   "outputs": [
    {
     "data": {
      "text/html": [
       "<div>\n",
       "<style scoped>\n",
       "    .dataframe tbody tr th:only-of-type {\n",
       "        vertical-align: middle;\n",
       "    }\n",
       "\n",
       "    .dataframe tbody tr th {\n",
       "        vertical-align: top;\n",
       "    }\n",
       "\n",
       "    .dataframe thead th {\n",
       "        text-align: right;\n",
       "    }\n",
       "</style>\n",
       "<table border=\"1\" class=\"dataframe\">\n",
       "  <thead>\n",
       "    <tr style=\"text-align: right;\">\n",
       "      <th></th>\n",
       "      <th>customerid</th>\n",
       "      <th>items</th>\n",
       "    </tr>\n",
       "  </thead>\n",
       "  <tbody>\n",
       "    <tr>\n",
       "      <th>1</th>\n",
       "      <td>4017</td>\n",
       "      <td>[1486, 1485]</td>\n",
       "    </tr>\n",
       "    <tr>\n",
       "      <th>2</th>\n",
       "      <td>534</td>\n",
       "      <td>[3059, 1594, 1597, 1598, 1187, 3114, 1476, 147...</td>\n",
       "    </tr>\n",
       "    <tr>\n",
       "      <th>3</th>\n",
       "      <td>534</td>\n",
       "      <td>[1801, 1755, 1754, 1756]</td>\n",
       "    </tr>\n",
       "    <tr>\n",
       "      <th>4</th>\n",
       "      <td>534</td>\n",
       "      <td>[769]</td>\n",
       "    </tr>\n",
       "    <tr>\n",
       "      <th>5</th>\n",
       "      <td>189</td>\n",
       "      <td>[1577, 1576, 1575, 748, 850, 0, 788, 315, 1203...</td>\n",
       "    </tr>\n",
       "    <tr>\n",
       "      <th>...</th>\n",
       "      <td>...</td>\n",
       "      <td>...</td>\n",
       "    </tr>\n",
       "    <tr>\n",
       "      <th>13634</th>\n",
       "      <td>1819</td>\n",
       "      <td>[1435, 1430, 3059, 2033, 2032, 1250]</td>\n",
       "    </tr>\n",
       "    <tr>\n",
       "      <th>13635</th>\n",
       "      <td>4227</td>\n",
       "      <td>[1474, 2173, 1681, 876, 1950, 2309]</td>\n",
       "    </tr>\n",
       "    <tr>\n",
       "      <th>13636</th>\n",
       "      <td>1045</td>\n",
       "      <td>[62, 1077, 996, 2583, 1253, 1957, 961, 1254, 2...</td>\n",
       "    </tr>\n",
       "    <tr>\n",
       "      <th>13637</th>\n",
       "      <td>3355</td>\n",
       "      <td>[162, 2162, 2192, 2312, 2314, 2309, 2308, 2310...</td>\n",
       "    </tr>\n",
       "    <tr>\n",
       "      <th>13638</th>\n",
       "      <td>3355</td>\n",
       "      <td>[2166]</td>\n",
       "    </tr>\n",
       "  </tbody>\n",
       "</table>\n",
       "<p>13638 rows × 2 columns</p>\n",
       "</div>"
      ],
      "text/plain": [
       "       customerid                                              items\n",
       "1            4017                                       [1486, 1485]\n",
       "2             534  [3059, 1594, 1597, 1598, 1187, 3114, 1476, 147...\n",
       "3             534                           [1801, 1755, 1754, 1756]\n",
       "4             534                                              [769]\n",
       "5             189  [1577, 1576, 1575, 748, 850, 0, 788, 315, 1203...\n",
       "...           ...                                                ...\n",
       "13634        1819               [1435, 1430, 3059, 2033, 2032, 1250]\n",
       "13635        4227                [1474, 2173, 1681, 876, 1950, 2309]\n",
       "13636        1045  [62, 1077, 996, 2583, 1253, 1957, 961, 1254, 2...\n",
       "13637        3355  [162, 2162, 2192, 2312, 2314, 2309, 2308, 2310...\n",
       "13638        3355                                             [2166]\n",
       "\n",
       "[13638 rows x 2 columns]"
      ]
     },
     "execution_count": 79,
     "metadata": {},
     "output_type": "execute_result"
    }
   ],
   "source": [
    "df_train_wrap[1:]"
   ]
  },
  {
   "cell_type": "code",
   "execution_count": 87,
   "metadata": {},
   "outputs": [
    {
     "data": {
      "text/plain": [
       "(array([[   0, 1486, 1485,    0,    0],\n",
       "        [   0, 3059, 1594, 1597, 1598],\n",
       "        [3059, 1594, 1597, 1598, 1187],\n",
       "        [1594, 1597, 1598, 1187, 3114],\n",
       "        [1597, 1598, 1187, 3114, 1476],\n",
       "        [1598, 1187, 3114, 1476, 1475],\n",
       "        [1187, 3114, 1476, 1475,  767]]),\n",
       " array([[1486, 1485,    0,    0,    0],\n",
       "        [3059, 1594, 1597, 1598, 1187],\n",
       "        [1594, 1597, 1598, 1187, 3114],\n",
       "        [1597, 1598, 1187, 3114, 1476],\n",
       "        [1598, 1187, 3114, 1476, 1475],\n",
       "        [1187, 3114, 1476, 1475,  767],\n",
       "        [3114, 1476, 1475,  767,  768]]))"
      ]
     },
     "execution_count": 87,
     "metadata": {},
     "output_type": "execute_result"
    }
   ],
   "source": [
    "X_train[3:10], Y_train[3:10]"
   ]
  },
  {
   "cell_type": "markdown",
   "metadata": {},
   "source": [
    "Model graph:"
   ]
  },
  {
   "cell_type": "code",
   "execution_count": 107,
   "metadata": {},
   "outputs": [],
   "source": [
    "# 헬퍼함수 정의....\n",
    "\n",
    "def lstm_cell(hidden_size, is_training):\n",
    "    return rnn.BasicLSTMCell(hidden_size, forget_bias=0.0, \n",
    "                             state_is_tuple=True, reuse=not is_training)\n",
    "\n",
    "def rnn_model(inputs, hidden_size, num_layers, batch_size, num_steps, is_training):\n",
    "    cells = [lstm_cell(hidden_size, is_training) for _ in range(num_layers)] \n",
    "    cell = rnn.MultiRNNCell(cells, state_is_tuple=True)\n",
    "\n",
    "    initial_state = cell.zero_state(batch_size, tf.float32)\n",
    "    inputs = tf.unstack(inputs, num=num_steps, axis=1) \n",
    "                                                        \n",
    "    outputs, final_state = rnn.static_rnn(cell, inputs, initial_state=initial_state)\n",
    "    output = tf.reshape(tf.concat(outputs, 1), [-1, hidden_size])\n",
    "\n",
    "    return output, initial_state, final_state\n",
    "\n",
    "\n",
    "def model(config, is_training):\n",
    "    # Model에 사용될 파라미터들을 config 객체로부터 가져옴.\n",
    "    batch_size = config.batch_size\n",
    "    num_steps = config.num_steps\n",
    "    embedding_size = config.embedding_size\n",
    "    hidden_size = config.hidden_size\n",
    "    num_items = config.num_items\n",
    "\n",
    "    # placeholder에서 shape 속성은 입력될 자료형의 크기를 지정하는 것 \n",
    "    # 아래에서는 [batch_size, num_steps] 만큼의 shape를 입력으로 사용하겠다.\n",
    "    # 이 그외의 shape가 입력될 경우엔 오류 발생.\n",
    "    place_x = tf.placeholder(shape=[batch_size, num_steps], dtype=tf.int32)\n",
    "    place_y = tf.placeholder(shape=[batch_size, num_steps], dtype=tf.int32)\n",
    "\n",
    "    embedding = tf.get_variable(\"items\", [num_items, embedding_size], dtype=tf.float32)\n",
    "    inputs = tf.nn.embedding_lookup(embedding, place_x)\n",
    "\n",
    "    output, initial_state, final_state = \\\n",
    "        rnn_model(inputs, hidden_size, config.num_layers, batch_size, num_steps, is_training)\n",
    "\n",
    "    W = tf.get_variable(\"W\", [hidden_size, num_items], dtype=tf.float32)\n",
    "    b = tf.get_variable(\"b\", [num_items], dtype=tf.float32)\n",
    "    logits = tf.nn.xw_plus_b(output, W, b)\n",
    "    logits = tf.reshape(logits, [batch_size, num_steps, num_items])\n",
    "\n",
    "    loss = tf.losses.sparse_softmax_cross_entropy(place_y, logits)\n",
    "    total_loss = tf.reduce_mean(loss)\n",
    "\n",
    "    tvars = tf.trainable_variables()\n",
    "    gradient = tf.gradients(total_loss, tvars)\n",
    "    clipped, _ = tf.clip_by_global_norm(gradient, config.max_grad_norm)\n",
    "    optimizer = tf.train.GradientDescentOptimizer(config.learning_rate)\n",
    "\n",
    "    global_step = tf.train.get_or_create_global_step()\n",
    "    train_optimizer = optimizer.apply_gradients(zip(clipped, tvars), global_step=global_step)\n",
    "\n",
    "    result = {}\n",
    "    result['place_x'] = place_x\n",
    "    result['place_y'] = place_y\n",
    "    \n",
    "    result['initial_state'] = initial_state\n",
    "    result['final_state'] = final_state\n",
    "    result['logits'] = logits\n",
    "\n",
    "    result['total_loss'] = loss\n",
    "    result['train_op'] = train_optimizer\n",
    "\n",
    "    return result"
   ]
  },
  {
   "cell_type": "markdown",
   "metadata": {},
   "source": [
    "모델 초기화랑 학습 ^~^"
   ]
  },
  {
   "cell_type": "code",
   "execution_count": 108,
   "metadata": {},
   "outputs": [],
   "source": [
    "config = Config()\n",
    "config_val = Config()\n",
    "config_val.batch_size = 1\n",
    "config_val.num_steps = 1\n",
    "\n",
    "graph = tf.Graph()\n",
    "graph.seed = 1\n",
    "\n",
    "with graph.as_default():\n",
    "    initializer = tf.random_uniform_initializer(-config.init_scale, config.init_scale)\n",
    "\n",
    "    with tf.name_scope(\"Train\"):\n",
    "        with tf.variable_scope(\"Model\", reuse=None, initializer=initializer):\n",
    "            train_model = model(config, is_training=True)\n",
    "\n",
    "    with tf.name_scope(\"Valid\"):\n",
    "        with tf.variable_scope(\"Model\", reuse=True, initializer=initializer):\n",
    "            val_model = model(config_val, is_training=False)\n",
    "\n",
    "    init = tf.global_variables_initializer()"
   ]
  },
  {
   "cell_type": "code",
   "execution_count": 109,
   "metadata": {},
   "outputs": [],
   "source": [
    "def prepare_batches(seq, step):\n",
    "    n = len(seq)\n",
    "    res = []\n",
    "    for i in range(0, n, step):\n",
    "        res.append(seq[i:i+step])\n",
    "    return res"
   ]
  },
  {
   "cell_type": "code",
   "execution_count": 110,
   "metadata": {},
   "outputs": [],
   "source": [
    "def run_epoch(session, model, X, Y, batch_size):\n",
    "    fetches = {\n",
    "        \"total_loss\": model['total_loss'],\n",
    "        \"final_state\": model['final_state'],\n",
    "        \"eval_op\": model['train_op']\n",
    "    }\n",
    "\n",
    "    num_steps = X.shape[1]\n",
    "    all_idx = np.arange(X.shape[0])\n",
    "    np.random.shuffle(all_idx)\n",
    "    batches = prepare_batches(all_idx, batch_size)\n",
    "\n",
    "    initial_state = session.run(model['initial_state'])\n",
    "    current_state = initial_state\n",
    "\n",
    "    progress = tqdm(total=len(batches))\n",
    "    for idx in batches:\n",
    "        if len(idx) < batch_size:\n",
    "            continue\n",
    "\n",
    "        feed_dict = {}\n",
    "        for i, (c, h) in enumerate(model['initial_state']):\n",
    "            feed_dict[c] = current_state[i].c\n",
    "            feed_dict[h] = current_state[i].h\n",
    "\n",
    "        feed_dict[model['place_x']] = X[idx]\n",
    "        feed_dict[model['place_y']] = Y[idx]\n",
    "\n",
    "        vals = session.run(fetches, feed_dict)\n",
    "        loss = vals[\"total_loss\"]\n",
    "        current_state = vals[\"final_state\"]\n",
    "\n",
    "        progress.update(1)\n",
    "        progress.set_description('%.3f' % loss)\n",
    "    progress.close()"
   ]
  },
  {
   "cell_type": "code",
   "execution_count": 111,
   "metadata": {},
   "outputs": [
    {
     "name": "stderr",
     "output_type": "stream",
     "text": [
      "C:\\Users\\dinb1\\Anaconda3\\envs\\tf1\\lib\\site-packages\\ipykernel_launcher.py:16: TqdmDeprecationWarning: This function will be removed in tqdm==5.0.0\n",
      "Please use `tqdm.notebook.tqdm` instead of `tqdm.tqdm_notebook`\n",
      "  app.launch_new_instance()\n"
     ]
    },
    {
     "data": {
      "application/vnd.jupyter.widget-view+json": {
       "model_id": "14feb660226140cbae6a2185eba00849",
       "version_major": 2,
       "version_minor": 0
      },
      "text/plain": [
       "HBox(children=(FloatProgress(value=0.0, max=11562.0), HTML(value='')))"
      ]
     },
     "metadata": {},
     "output_type": "display_data"
    },
    {
     "name": "stdout",
     "output_type": "stream",
     "text": [
      "\n"
     ]
    }
   ],
   "source": [
    "session = tf.Session(config=None, graph=graph) \n",
    "session.run(init)\n",
    "\n",
    "np.random.seed(0)\n",
    "\n",
    "run_epoch(session, train_model, X_train, Y_train, batch_size=config.batch_size)"
   ]
  },
  {
   "cell_type": "code",
   "execution_count": 112,
   "metadata": {},
   "outputs": [],
   "source": [
    "def generate_prediction(uid, indptr, items, model, k):\n",
    "    n_groups = len(uid)\n",
    "    n_items = len(items)\n",
    "\n",
    "    pred_all = np.zeros((n_items, k), dtype=np.int32)\n",
    "    initial_state = session.run(model['initial_state'])\n",
    "\n",
    "    fetches = {\n",
    "        \"logits\": model['logits'],\n",
    "        \"final_state\": model['final_state'],\n",
    "    }\n",
    "\n",
    "    for g in tqdm(range(n_groups)):    \n",
    "        start = indptr[g]\n",
    "        end = indptr[g+1]\n",
    "\n",
    "        current_state = initial_state\n",
    "\n",
    "        feed_dict = {}\n",
    "\n",
    "        for i, (c, h) in enumerate(model['initial_state']):\n",
    "            feed_dict[c] = current_state[i].c\n",
    "            feed_dict[h] = current_state[i].h\n",
    "\n",
    "        prev = np.array([[0]], dtype=np.int32)\n",
    "\n",
    "        for i in range(start, end):\n",
    "            feed_dict[model['place_x']] = prev\n",
    "\n",
    "            actual = items[i]\n",
    "            prev[0, 0] = actual\n",
    "\n",
    "            values = session.run(fetches, feed_dict)\n",
    "            current_state = values[\"final_state\"]\n",
    "\n",
    "            logits = values['logits'].reshape(-1)\n",
    "            pred = np.argpartition(-logits, k)[:k]\n",
    "            pred_all[i] = pred\n",
    "\n",
    "    return pred_all"
   ]
  },
  {
   "cell_type": "code",
   "execution_count": 113,
   "metadata": {},
   "outputs": [
    {
     "name": "stderr",
     "output_type": "stream",
     "text": [
      "C:\\Users\\dinb1\\Anaconda3\\envs\\tf1\\lib\\site-packages\\ipykernel_launcher.py:13: TqdmDeprecationWarning: This function will be removed in tqdm==5.0.0\n",
      "Please use `tqdm.notebook.tqdm` instead of `tqdm.tqdm_notebook`\n",
      "  del sys.path[0]\n"
     ]
    },
    {
     "data": {
      "application/vnd.jupyter.widget-view+json": {
       "model_id": "c2d14352ef1c43babded3ec9ac256db7",
       "version_major": 2,
       "version_minor": 0
      },
      "text/plain": [
       "HBox(children=(FloatProgress(value=0.0, max=4897.0), HTML(value='')))"
      ]
     },
     "metadata": {},
     "output_type": "display_data"
    },
    {
     "name": "stdout",
     "output_type": "stream",
     "text": [
      "\n"
     ]
    }
   ],
   "source": [
    "pred_lstm = generate_prediction(uid_val, indptr_val, iid_val, val_model, k=5)"
   ]
  },
  {
   "cell_type": "code",
   "execution_count": 116,
   "metadata": {
    "scrolled": true
   },
   "outputs": [
    {
     "name": "stdout",
     "output_type": "stream",
     "text": [
      "클래스 초기화가 완료되었습니다.\n",
      "K = 5\n",
      "전체 추천 성공 개수: 6016\n",
      "df_val_count 갱신.\n",
      "Accuracy : 0.050\n",
      "Average of Recall : 0.052\n"
     ]
    }
   ],
   "source": [
    "result = ResultClass()\n",
    "print('Accuracy : %.3f' % result.accuracy_k(iid_val, pred_lstm))\n",
    "print('Average of Recall : %.3f' % result.compute_recall())"
   ]
  },
  {
   "cell_type": "markdown",
   "metadata": {},
   "source": [
    "# 테스트 (밑에서 부터는 안 건드려도 됨)"
   ]
  },
  {
   "cell_type": "code",
   "execution_count": 40,
   "metadata": {},
   "outputs": [],
   "source": [
    "# 테스트 (성공적! 인지는 모르겠음. 남겨두기!!!! 중요!!!!)\n",
    "def generate_prediction_user_model(uid, indptr, items, model, k, idx):\n",
    "    n_groups = 1\n",
    "    n_items = len(items)\n",
    "\n",
    "    pred_all = np.zeros(5, dtype=np.int32)\n",
    "    initial_state = session.run(model['initial_state'])\n",
    "\n",
    "    fetches = {\n",
    "        \"logits\": model['logits'],\n",
    "        \"final_state\": model['final_state'],\n",
    "    }\n",
    "\n",
    "    for g in tqdm(range(n_groups)):    \n",
    "        start = indptr[idx]\n",
    "        end = indptr[idx+1]\n",
    "        u = uid\n",
    "\n",
    "        current_state = initial_state\n",
    "\n",
    "        feed_dict = {}\n",
    "        feed_dict[model['place_u']] = np.array([[u]], dtype=np.int32)\n",
    "\n",
    "        for i, (c, h) in enumerate(model['initial_state']):\n",
    "            feed_dict[c] = current_state[i].c\n",
    "            feed_dict[h] = current_state[i].h\n",
    "\n",
    "        prev = np.array([[0]], dtype=np.int32)\n",
    "\n",
    "        for i in range(start, end):\n",
    "            feed_dict[model['place_x']] = prev\n",
    "\n",
    "            actual = items[i]\n",
    "            prev[0, 0] = actual\n",
    "\n",
    "            values = session.run(fetches, feed_dict)\n",
    "            current_state = values[\"final_state\"]\n",
    "\n",
    "            logits = values['logits'].reshape(-1)\n",
    "            pred = np.argpartition(-logits, k)[:k]\n",
    "            #pred_all[i] = pred\n",
    "\n",
    "    return pred"
   ]
  },
  {
   "cell_type": "code",
   "execution_count": 41,
   "metadata": {},
   "outputs": [
    {
     "ename": "NameError",
     "evalue": "name 'session' is not defined",
     "output_type": "error",
     "traceback": [
      "\u001b[1;31m---------------------------------------------------------------------------\u001b[0m",
      "\u001b[1;31mNameError\u001b[0m                                 Traceback (most recent call last)",
      "\u001b[1;32m<ipython-input-41-4e7968886490>\u001b[0m in \u001b[0;36m<module>\u001b[1;34m\u001b[0m\n\u001b[0;32m      1\u001b[0m \u001b[0mindex\u001b[0m \u001b[1;33m=\u001b[0m \u001b[1;36m0\u001b[0m\u001b[1;33m\u001b[0m\u001b[1;33m\u001b[0m\u001b[0m\n\u001b[1;32m----> 2\u001b[1;33m \u001b[0mpred_lstm\u001b[0m \u001b[1;33m=\u001b[0m \u001b[0mgenerate_prediction_user_model\u001b[0m\u001b[1;33m(\u001b[0m\u001b[0muid_val\u001b[0m\u001b[1;33m[\u001b[0m\u001b[0mindex\u001b[0m\u001b[1;33m]\u001b[0m\u001b[1;33m,\u001b[0m \u001b[0mindptr_val\u001b[0m\u001b[1;33m,\u001b[0m \u001b[0miid_val\u001b[0m\u001b[1;33m,\u001b[0m \u001b[0mval_model\u001b[0m\u001b[1;33m,\u001b[0m \u001b[0mk\u001b[0m\u001b[1;33m=\u001b[0m\u001b[1;36m5\u001b[0m\u001b[1;33m,\u001b[0m \u001b[0midx\u001b[0m\u001b[1;33m=\u001b[0m\u001b[0mindex\u001b[0m\u001b[1;33m)\u001b[0m\u001b[1;33m\u001b[0m\u001b[1;33m\u001b[0m\u001b[0m\n\u001b[0m\u001b[0;32m      3\u001b[0m \u001b[0mpred_lstm\u001b[0m\u001b[1;33m\u001b[0m\u001b[1;33m\u001b[0m\u001b[0m\n",
      "\u001b[1;32m<ipython-input-40-a8b0ccc77822>\u001b[0m in \u001b[0;36mgenerate_prediction_user_model\u001b[1;34m(uid, indptr, items, model, k, idx)\u001b[0m\n\u001b[0;32m      5\u001b[0m \u001b[1;33m\u001b[0m\u001b[0m\n\u001b[0;32m      6\u001b[0m     \u001b[0mpred_all\u001b[0m \u001b[1;33m=\u001b[0m \u001b[0mnp\u001b[0m\u001b[1;33m.\u001b[0m\u001b[0mzeros\u001b[0m\u001b[1;33m(\u001b[0m\u001b[1;36m5\u001b[0m\u001b[1;33m,\u001b[0m \u001b[0mdtype\u001b[0m\u001b[1;33m=\u001b[0m\u001b[0mnp\u001b[0m\u001b[1;33m.\u001b[0m\u001b[0mint32\u001b[0m\u001b[1;33m)\u001b[0m\u001b[1;33m\u001b[0m\u001b[1;33m\u001b[0m\u001b[0m\n\u001b[1;32m----> 7\u001b[1;33m     \u001b[0minitial_state\u001b[0m \u001b[1;33m=\u001b[0m \u001b[0msession\u001b[0m\u001b[1;33m.\u001b[0m\u001b[0mrun\u001b[0m\u001b[1;33m(\u001b[0m\u001b[0mmodel\u001b[0m\u001b[1;33m[\u001b[0m\u001b[1;34m'initial_state'\u001b[0m\u001b[1;33m]\u001b[0m\u001b[1;33m)\u001b[0m\u001b[1;33m\u001b[0m\u001b[1;33m\u001b[0m\u001b[0m\n\u001b[0m\u001b[0;32m      8\u001b[0m \u001b[1;33m\u001b[0m\u001b[0m\n\u001b[0;32m      9\u001b[0m     fetches = {\n",
      "\u001b[1;31mNameError\u001b[0m: name 'session' is not defined"
     ]
    }
   ],
   "source": [
    "index = 0\n",
    "pred_lstm = generate_prediction_user_model(uid_val[index], indptr_val, iid_val, val_model, k=5, idx=index)\n",
    "pred_lstm"
   ]
  },
  {
   "cell_type": "code",
   "execution_count": 158,
   "metadata": {},
   "outputs": [
    {
     "ename": "ValueError",
     "evalue": "No variables to save",
     "output_type": "error",
     "traceback": [
      "\u001b[1;31m---------------------------------------------------------------------------\u001b[0m",
      "\u001b[1;31mValueError\u001b[0m                                Traceback (most recent call last)",
      "\u001b[1;32m<ipython-input-158-10ae649c498e>\u001b[0m in \u001b[0;36m<module>\u001b[1;34m\u001b[0m\n\u001b[1;32m----> 1\u001b[1;33m \u001b[0msaver\u001b[0m \u001b[1;33m=\u001b[0m \u001b[0mtf\u001b[0m\u001b[1;33m.\u001b[0m\u001b[0mtrain\u001b[0m\u001b[1;33m.\u001b[0m\u001b[0mSaver\u001b[0m\u001b[1;33m(\u001b[0m\u001b[1;33m)\u001b[0m\u001b[1;33m\u001b[0m\u001b[1;33m\u001b[0m\u001b[0m\n\u001b[0m\u001b[0;32m      2\u001b[0m \u001b[0msaver\u001b[0m\u001b[1;33m.\u001b[0m\u001b[0msave\u001b[0m\u001b[1;33m(\u001b[0m\u001b[0msession\u001b[0m\u001b[1;33m,\u001b[0m \u001b[1;34m'my_test_model'\u001b[0m\u001b[1;33m)\u001b[0m\u001b[1;33m\u001b[0m\u001b[1;33m\u001b[0m\u001b[0m\n",
      "\u001b[1;32m~\\Anaconda3\\lib\\site-packages\\tensorflow\\python\\training\\saver.py\u001b[0m in \u001b[0;36m__init__\u001b[1;34m(self, var_list, reshape, sharded, max_to_keep, keep_checkpoint_every_n_hours, name, restore_sequentially, saver_def, builder, defer_build, allow_empty, write_version, pad_step_number, save_relative_paths, filename)\u001b[0m\n\u001b[0;32m    830\u001b[0m           time.time() + self._keep_checkpoint_every_n_hours * 3600)\n\u001b[0;32m    831\u001b[0m     \u001b[1;32melif\u001b[0m \u001b[1;32mnot\u001b[0m \u001b[0mdefer_build\u001b[0m\u001b[1;33m:\u001b[0m\u001b[1;33m\u001b[0m\u001b[1;33m\u001b[0m\u001b[0m\n\u001b[1;32m--> 832\u001b[1;33m       \u001b[0mself\u001b[0m\u001b[1;33m.\u001b[0m\u001b[0mbuild\u001b[0m\u001b[1;33m(\u001b[0m\u001b[1;33m)\u001b[0m\u001b[1;33m\u001b[0m\u001b[1;33m\u001b[0m\u001b[0m\n\u001b[0m\u001b[0;32m    833\u001b[0m     \u001b[1;32mif\u001b[0m \u001b[0mself\u001b[0m\u001b[1;33m.\u001b[0m\u001b[0msaver_def\u001b[0m\u001b[1;33m:\u001b[0m\u001b[1;33m\u001b[0m\u001b[1;33m\u001b[0m\u001b[0m\n\u001b[0;32m    834\u001b[0m       \u001b[0mself\u001b[0m\u001b[1;33m.\u001b[0m\u001b[0m_check_saver_def\u001b[0m\u001b[1;33m(\u001b[0m\u001b[1;33m)\u001b[0m\u001b[1;33m\u001b[0m\u001b[1;33m\u001b[0m\u001b[0m\n",
      "\u001b[1;32m~\\Anaconda3\\lib\\site-packages\\tensorflow\\python\\training\\saver.py\u001b[0m in \u001b[0;36mbuild\u001b[1;34m(self)\u001b[0m\n\u001b[0;32m    842\u001b[0m     \u001b[1;32mif\u001b[0m \u001b[0mcontext\u001b[0m\u001b[1;33m.\u001b[0m\u001b[0mexecuting_eagerly\u001b[0m\u001b[1;33m(\u001b[0m\u001b[1;33m)\u001b[0m\u001b[1;33m:\u001b[0m\u001b[1;33m\u001b[0m\u001b[1;33m\u001b[0m\u001b[0m\n\u001b[0;32m    843\u001b[0m       \u001b[1;32mraise\u001b[0m \u001b[0mRuntimeError\u001b[0m\u001b[1;33m(\u001b[0m\u001b[1;34m\"Use save/restore instead of build in eager mode.\"\u001b[0m\u001b[1;33m)\u001b[0m\u001b[1;33m\u001b[0m\u001b[1;33m\u001b[0m\u001b[0m\n\u001b[1;32m--> 844\u001b[1;33m     \u001b[0mself\u001b[0m\u001b[1;33m.\u001b[0m\u001b[0m_build\u001b[0m\u001b[1;33m(\u001b[0m\u001b[0mself\u001b[0m\u001b[1;33m.\u001b[0m\u001b[0m_filename\u001b[0m\u001b[1;33m,\u001b[0m \u001b[0mbuild_save\u001b[0m\u001b[1;33m=\u001b[0m\u001b[1;32mTrue\u001b[0m\u001b[1;33m,\u001b[0m \u001b[0mbuild_restore\u001b[0m\u001b[1;33m=\u001b[0m\u001b[1;32mTrue\u001b[0m\u001b[1;33m)\u001b[0m\u001b[1;33m\u001b[0m\u001b[1;33m\u001b[0m\u001b[0m\n\u001b[0m\u001b[0;32m    845\u001b[0m \u001b[1;33m\u001b[0m\u001b[0m\n\u001b[0;32m    846\u001b[0m   \u001b[1;32mdef\u001b[0m \u001b[0m_build_eager\u001b[0m\u001b[1;33m(\u001b[0m\u001b[0mself\u001b[0m\u001b[1;33m,\u001b[0m \u001b[0mcheckpoint_path\u001b[0m\u001b[1;33m,\u001b[0m \u001b[0mbuild_save\u001b[0m\u001b[1;33m,\u001b[0m \u001b[0mbuild_restore\u001b[0m\u001b[1;33m)\u001b[0m\u001b[1;33m:\u001b[0m\u001b[1;33m\u001b[0m\u001b[1;33m\u001b[0m\u001b[0m\n",
      "\u001b[1;32m~\\Anaconda3\\lib\\site-packages\\tensorflow\\python\\training\\saver.py\u001b[0m in \u001b[0;36m_build\u001b[1;34m(self, checkpoint_path, build_save, build_restore)\u001b[0m\n\u001b[0;32m    867\u001b[0m           \u001b[1;32mreturn\u001b[0m\u001b[1;33m\u001b[0m\u001b[1;33m\u001b[0m\u001b[0m\n\u001b[0;32m    868\u001b[0m         \u001b[1;32melse\u001b[0m\u001b[1;33m:\u001b[0m\u001b[1;33m\u001b[0m\u001b[1;33m\u001b[0m\u001b[0m\n\u001b[1;32m--> 869\u001b[1;33m           \u001b[1;32mraise\u001b[0m \u001b[0mValueError\u001b[0m\u001b[1;33m(\u001b[0m\u001b[1;34m\"No variables to save\"\u001b[0m\u001b[1;33m)\u001b[0m\u001b[1;33m\u001b[0m\u001b[1;33m\u001b[0m\u001b[0m\n\u001b[0m\u001b[0;32m    870\u001b[0m       \u001b[0mself\u001b[0m\u001b[1;33m.\u001b[0m\u001b[0m_is_empty\u001b[0m \u001b[1;33m=\u001b[0m \u001b[1;32mFalse\u001b[0m\u001b[1;33m\u001b[0m\u001b[1;33m\u001b[0m\u001b[0m\n\u001b[0;32m    871\u001b[0m \u001b[1;33m\u001b[0m\u001b[0m\n",
      "\u001b[1;31mValueError\u001b[0m: No variables to save"
     ]
    }
   ],
   "source": [
    "saver = tf.train.Saver()\n",
    "saver.save(session, 'my_test_model')"
   ]
  },
  {
   "cell_type": "code",
   "execution_count": 61,
   "metadata": {},
   "outputs": [
    {
     "data": {
      "text/html": [
       "<div>\n",
       "<style scoped>\n",
       "    .dataframe tbody tr th:only-of-type {\n",
       "        vertical-align: middle;\n",
       "    }\n",
       "\n",
       "    .dataframe tbody tr th {\n",
       "        vertical-align: top;\n",
       "    }\n",
       "\n",
       "    .dataframe thead th {\n",
       "        text-align: right;\n",
       "    }\n",
       "</style>\n",
       "<table border=\"1\" class=\"dataframe\">\n",
       "  <thead>\n",
       "    <tr style=\"text-align: right;\">\n",
       "      <th></th>\n",
       "      <th>invoiceno</th>\n",
       "      <th>stockcode</th>\n",
       "      <th>description</th>\n",
       "      <th>quantity</th>\n",
       "      <th>invoicedate</th>\n",
       "      <th>unitprice</th>\n",
       "      <th>customerid</th>\n",
       "      <th>country</th>\n",
       "    </tr>\n",
       "  </thead>\n",
       "  <tbody>\n",
       "    <tr>\n",
       "      <th>0</th>\n",
       "      <td>570206</td>\n",
       "      <td>664</td>\n",
       "      <td>DOORMAT SPOTTY HOME SWEET HOME</td>\n",
       "      <td>10</td>\n",
       "      <td>2011-10-09 10:13:00</td>\n",
       "      <td>7.08</td>\n",
       "      <td>1990</td>\n",
       "      <td>United Kingdom</td>\n",
       "    </tr>\n",
       "    <tr>\n",
       "      <th>1</th>\n",
       "      <td>570206</td>\n",
       "      <td>2767</td>\n",
       "      <td>DOORMAT FAIRY CAKE</td>\n",
       "      <td>10</td>\n",
       "      <td>2011-10-09 10:13:00</td>\n",
       "      <td>7.08</td>\n",
       "      <td>1990</td>\n",
       "      <td>United Kingdom</td>\n",
       "    </tr>\n",
       "    <tr>\n",
       "      <th>2</th>\n",
       "      <td>570206</td>\n",
       "      <td>811</td>\n",
       "      <td>GAOLERS KEYS DECORATIVE GARDEN</td>\n",
       "      <td>2</td>\n",
       "      <td>2011-10-09 10:13:00</td>\n",
       "      <td>3.75</td>\n",
       "      <td>1990</td>\n",
       "      <td>United Kingdom</td>\n",
       "    </tr>\n",
       "    <tr>\n",
       "      <th>3</th>\n",
       "      <td>570208</td>\n",
       "      <td>152</td>\n",
       "      <td>EDWARDIAN PARASOL RED</td>\n",
       "      <td>3</td>\n",
       "      <td>2011-10-09 10:23:00</td>\n",
       "      <td>5.95</td>\n",
       "      <td>0</td>\n",
       "      <td>United Kingdom</td>\n",
       "    </tr>\n",
       "    <tr>\n",
       "      <th>4</th>\n",
       "      <td>570208</td>\n",
       "      <td>21</td>\n",
       "      <td>EDWARDIAN PARASOL BLACK</td>\n",
       "      <td>3</td>\n",
       "      <td>2011-10-09 10:23:00</td>\n",
       "      <td>5.95</td>\n",
       "      <td>0</td>\n",
       "      <td>United Kingdom</td>\n",
       "    </tr>\n",
       "    <tr>\n",
       "      <th>...</th>\n",
       "      <td>...</td>\n",
       "      <td>...</td>\n",
       "      <td>...</td>\n",
       "      <td>...</td>\n",
       "      <td>...</td>\n",
       "      <td>...</td>\n",
       "      <td>...</td>\n",
       "      <td>...</td>\n",
       "    </tr>\n",
       "    <tr>\n",
       "      <th>154146</th>\n",
       "      <td>581587</td>\n",
       "      <td>1527</td>\n",
       "      <td>PACK OF 20 SPACEBOY NAPKINS</td>\n",
       "      <td>12</td>\n",
       "      <td>2011-12-09 12:50:00</td>\n",
       "      <td>0.85</td>\n",
       "      <td>222</td>\n",
       "      <td>France</td>\n",
       "    </tr>\n",
       "    <tr>\n",
       "      <th>154147</th>\n",
       "      <td>581587</td>\n",
       "      <td>1803</td>\n",
       "      <td>CHILDREN'S APRON DOLLY GIRL</td>\n",
       "      <td>6</td>\n",
       "      <td>2011-12-09 12:50:00</td>\n",
       "      <td>2.10</td>\n",
       "      <td>222</td>\n",
       "      <td>France</td>\n",
       "    </tr>\n",
       "    <tr>\n",
       "      <th>154148</th>\n",
       "      <td>581587</td>\n",
       "      <td>2145</td>\n",
       "      <td>CHILDRENS CUTLERY DOLLY GIRL</td>\n",
       "      <td>4</td>\n",
       "      <td>2011-12-09 12:50:00</td>\n",
       "      <td>4.15</td>\n",
       "      <td>222</td>\n",
       "      <td>France</td>\n",
       "    </tr>\n",
       "    <tr>\n",
       "      <th>154149</th>\n",
       "      <td>581587</td>\n",
       "      <td>2146</td>\n",
       "      <td>CHILDRENS CUTLERY CIRCUS PARADE</td>\n",
       "      <td>4</td>\n",
       "      <td>2011-12-09 12:50:00</td>\n",
       "      <td>4.15</td>\n",
       "      <td>222</td>\n",
       "      <td>France</td>\n",
       "    </tr>\n",
       "    <tr>\n",
       "      <th>154150</th>\n",
       "      <td>581587</td>\n",
       "      <td>1093</td>\n",
       "      <td>BAKING SET 9 PIECE RETROSPOT</td>\n",
       "      <td>3</td>\n",
       "      <td>2011-12-09 12:50:00</td>\n",
       "      <td>4.95</td>\n",
       "      <td>222</td>\n",
       "      <td>France</td>\n",
       "    </tr>\n",
       "  </tbody>\n",
       "</table>\n",
       "<p>154151 rows × 8 columns</p>\n",
       "</div>"
      ],
      "text/plain": [
       "       invoiceno  stockcode                      description  quantity  \\\n",
       "0         570206        664   DOORMAT SPOTTY HOME SWEET HOME        10   \n",
       "1         570206       2767               DOORMAT FAIRY CAKE        10   \n",
       "2         570206        811  GAOLERS KEYS DECORATIVE GARDEN          2   \n",
       "3         570208        152            EDWARDIAN PARASOL RED         3   \n",
       "4         570208         21          EDWARDIAN PARASOL BLACK         3   \n",
       "...          ...        ...                              ...       ...   \n",
       "154146    581587       1527      PACK OF 20 SPACEBOY NAPKINS        12   \n",
       "154147    581587       1803     CHILDREN'S APRON DOLLY GIRL          6   \n",
       "154148    581587       2145    CHILDRENS CUTLERY DOLLY GIRL          4   \n",
       "154149    581587       2146  CHILDRENS CUTLERY CIRCUS PARADE         4   \n",
       "154150    581587       1093    BAKING SET 9 PIECE RETROSPOT          3   \n",
       "\n",
       "               invoicedate  unitprice  customerid         country  \n",
       "0      2011-10-09 10:13:00       7.08        1990  United Kingdom  \n",
       "1      2011-10-09 10:13:00       7.08        1990  United Kingdom  \n",
       "2      2011-10-09 10:13:00       3.75        1990  United Kingdom  \n",
       "3      2011-10-09 10:23:00       5.95           0  United Kingdom  \n",
       "4      2011-10-09 10:23:00       5.95           0  United Kingdom  \n",
       "...                    ...        ...         ...             ...  \n",
       "154146 2011-12-09 12:50:00       0.85         222          France  \n",
       "154147 2011-12-09 12:50:00       2.10         222          France  \n",
       "154148 2011-12-09 12:50:00       4.15         222          France  \n",
       "154149 2011-12-09 12:50:00       4.15         222          France  \n",
       "154150 2011-12-09 12:50:00       4.95         222          France  \n",
       "\n",
       "[154151 rows x 8 columns]"
      ]
     },
     "execution_count": 61,
     "metadata": {},
     "output_type": "execute_result"
    }
   ],
   "source": [
    "uid_val[0]"
   ]
  },
  {
   "cell_type": "code",
   "execution_count": 42,
   "metadata": {},
   "outputs": [
    {
     "name": "stdout",
     "output_type": "stream",
     "text": [
      "클래스 초기화가 완료되었습니다.\n",
      "K = 5\n",
      "전체 추천 성공 개수: 33946\n",
      "df_val_count 갱신.\n",
      "Accuracy : 0.220\n",
      "Precision : 0.776\n",
      "Average of Recall : 0.249\n"
     ]
    }
   ],
   "source": [
    "result = ResultClass()\n",
    "print('Accuracy : %.3f' % result.accuracy_k(iid_val, pred_lstm))\n",
    "print('Precision : %.3f' % result.compute_accuracy())\n",
    "print('Average of Recall : %.3f' % result.compute_recall())"
   ]
  },
  {
   "cell_type": "code",
   "execution_count": 97,
   "metadata": {},
   "outputs": [
    {
     "name": "stdout",
     "output_type": "stream",
     "text": [
      "Accuracy : 0.332\n",
      "Precision : 0.038\n"
     ]
    }
   ],
   "source": [
    "acc, result_pre = accuracy_k(iid_val, pred_lstm)#, result_pre = accuracy_k(iid_val, pred_lstm)\n",
    "#result_pre = compute_accuracy(5)\n",
    "#result_rec = compute_recall()\n",
    "#result_f1 = (2*result_pre*result_rec)/(result_pre+result_rec)\n",
    "print('Accuracy : %.3f' % acc)\n",
    "print('Precision : %.3f' % result_pre)\n",
    "#print('Recall : %.3f' % result_rec)\n",
    "#print('F1 : %.3f' % result_f1)"
   ]
  },
  {
   "cell_type": "code",
   "execution_count": 37,
   "metadata": {},
   "outputs": [
    {
     "data": {
      "text/html": [
       "<div>\n",
       "<style scoped>\n",
       "    .dataframe tbody tr th:only-of-type {\n",
       "        vertical-align: middle;\n",
       "    }\n",
       "\n",
       "    .dataframe tbody tr th {\n",
       "        vertical-align: top;\n",
       "    }\n",
       "\n",
       "    .dataframe thead th {\n",
       "        text-align: right;\n",
       "    }\n",
       "</style>\n",
       "<table border=\"1\" class=\"dataframe\">\n",
       "  <thead>\n",
       "    <tr style=\"text-align: right;\">\n",
       "      <th></th>\n",
       "      <th>invoiceno</th>\n",
       "      <th>stockcode</th>\n",
       "      <th>description</th>\n",
       "      <th>quantity</th>\n",
       "      <th>invoicedate</th>\n",
       "      <th>unitprice</th>\n",
       "      <th>customerid</th>\n",
       "      <th>country</th>\n",
       "    </tr>\n",
       "  </thead>\n",
       "  <tbody>\n",
       "    <tr>\n",
       "      <th>154146</th>\n",
       "      <td>581587</td>\n",
       "      <td>1527</td>\n",
       "      <td>PACK OF 20 SPACEBOY NAPKINS</td>\n",
       "      <td>12</td>\n",
       "      <td>2011-12-09 12:50:00</td>\n",
       "      <td>0.85</td>\n",
       "      <td>222</td>\n",
       "      <td>France</td>\n",
       "    </tr>\n",
       "    <tr>\n",
       "      <th>154147</th>\n",
       "      <td>581587</td>\n",
       "      <td>1803</td>\n",
       "      <td>CHILDREN'S APRON DOLLY GIRL</td>\n",
       "      <td>6</td>\n",
       "      <td>2011-12-09 12:50:00</td>\n",
       "      <td>2.10</td>\n",
       "      <td>222</td>\n",
       "      <td>France</td>\n",
       "    </tr>\n",
       "    <tr>\n",
       "      <th>154148</th>\n",
       "      <td>581587</td>\n",
       "      <td>2145</td>\n",
       "      <td>CHILDRENS CUTLERY DOLLY GIRL</td>\n",
       "      <td>4</td>\n",
       "      <td>2011-12-09 12:50:00</td>\n",
       "      <td>4.15</td>\n",
       "      <td>222</td>\n",
       "      <td>France</td>\n",
       "    </tr>\n",
       "    <tr>\n",
       "      <th>154149</th>\n",
       "      <td>581587</td>\n",
       "      <td>2146</td>\n",
       "      <td>CHILDRENS CUTLERY CIRCUS PARADE</td>\n",
       "      <td>4</td>\n",
       "      <td>2011-12-09 12:50:00</td>\n",
       "      <td>4.15</td>\n",
       "      <td>222</td>\n",
       "      <td>France</td>\n",
       "    </tr>\n",
       "    <tr>\n",
       "      <th>154150</th>\n",
       "      <td>581587</td>\n",
       "      <td>1093</td>\n",
       "      <td>BAKING SET 9 PIECE RETROSPOT</td>\n",
       "      <td>3</td>\n",
       "      <td>2011-12-09 12:50:00</td>\n",
       "      <td>4.95</td>\n",
       "      <td>222</td>\n",
       "      <td>France</td>\n",
       "    </tr>\n",
       "  </tbody>\n",
       "</table>\n",
       "</div>"
      ],
      "text/plain": [
       "       invoiceno  stockcode                      description  quantity  \\\n",
       "154146    581587       1527      PACK OF 20 SPACEBOY NAPKINS        12   \n",
       "154147    581587       1803     CHILDREN'S APRON DOLLY GIRL          6   \n",
       "154148    581587       2145    CHILDRENS CUTLERY DOLLY GIRL          4   \n",
       "154149    581587       2146  CHILDRENS CUTLERY CIRCUS PARADE         4   \n",
       "154150    581587       1093    BAKING SET 9 PIECE RETROSPOT          3   \n",
       "\n",
       "               invoicedate  unitprice  customerid country  \n",
       "154146 2011-12-09 12:50:00       0.85         222  France  \n",
       "154147 2011-12-09 12:50:00       2.10         222  France  \n",
       "154148 2011-12-09 12:50:00       4.15         222  France  \n",
       "154149 2011-12-09 12:50:00       4.15         222  France  \n",
       "154150 2011-12-09 12:50:00       4.95         222  France  "
      ]
     },
     "execution_count": 37,
     "metadata": {},
     "output_type": "execute_result"
    }
   ],
   "source": [
    "df_val.tail()"
   ]
  },
  {
   "cell_type": "code",
   "execution_count": 34,
   "metadata": {},
   "outputs": [
    {
     "data": {
      "text/plain": [
       "array([ 664, 2767,  811, ..., 2145, 2146, 1093])"
      ]
     },
     "execution_count": 34,
     "metadata": {},
     "output_type": "execute_result"
    }
   ],
   "source": [
    "iid_val"
   ]
  },
  {
   "cell_type": "code",
   "execution_count": 38,
   "metadata": {},
   "outputs": [],
   "source": [
    "# Test\n",
    "with open('./bin/lstm_k-5.bin', 'rb') as f_in:\n",
    "    check_pred = pickle.load(f_in)"
   ]
  },
  {
   "cell_type": "code",
   "execution_count": 40,
   "metadata": {},
   "outputs": [
    {
     "data": {
      "text/plain": [
       "154151"
      ]
     },
     "execution_count": 40,
     "metadata": {},
     "output_type": "execute_result"
    }
   ],
   "source": [
    "len(check_pred)"
   ]
  },
  {
   "cell_type": "code",
   "execution_count": 43,
   "metadata": {},
   "outputs": [
    {
     "data": {
      "text/plain": [
       "array([[3507, 3508,  173, 1317, 1336],\n",
       "       [3508, 3507, 1317,  173, 2096],\n",
       "       [ 816, 1381, 1348,  817, 3301],\n",
       "       ...,\n",
       "       [1573, 2102, 2101, 1314,  184],\n",
       "       [1573, 1314, 2102,  184, 2101],\n",
       "       [ 932, 1093, 1094, 1531, 1471]])"
      ]
     },
     "execution_count": 43,
     "metadata": {},
     "output_type": "execute_result"
    }
   ],
   "source": [
    "pred_lstm"
   ]
  },
  {
   "cell_type": "code",
   "execution_count": 23,
   "metadata": {},
   "outputs": [],
   "source": [
    "df_val.to_csv('./datasets/df_val.csv', index=False)"
   ]
  },
  {
   "cell_type": "code",
   "execution_count": null,
   "metadata": {},
   "outputs": [],
   "source": []
  }
 ],
 "metadata": {
  "anaconda-cloud": {},
  "kernelspec": {
   "display_name": "Python 3",
   "language": "python",
   "name": "python3"
  },
  "language_info": {
   "codemirror_mode": {
    "name": "ipython",
    "version": 3
   },
   "file_extension": ".py",
   "mimetype": "text/x-python",
   "name": "python",
   "nbconvert_exporter": "python",
   "pygments_lexer": "ipython3",
   "version": "3.9.0"
  },
  "toc": {
   "base_numbering": 1,
   "nav_menu": {},
   "number_sections": true,
   "sideBar": true,
   "skip_h1_title": false,
   "title_cell": "Table of Contents",
   "title_sidebar": "Contents",
   "toc_cell": false,
   "toc_position": {},
   "toc_section_display": true,
   "toc_window_display": false
  }
 },
 "nbformat": 4,
 "nbformat_minor": 2
}
