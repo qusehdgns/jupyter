{
 "cells": [
  {
   "cell_type": "code",
   "execution_count": 1,
   "id": "56f097c0",
   "metadata": {},
   "outputs": [],
   "source": [
    "import time\n",
    "from selenium import webdriver\n",
    "\n",
    "driver = webdriver.Chrome(\"/Users/donghunbyun/Desktop/workspace/jupyter/bigdata/chromedriver\")"
   ]
  },
  {
   "cell_type": "code",
   "execution_count": 2,
   "id": "d81e5387",
   "metadata": {},
   "outputs": [],
   "source": [
    "from bs4 import BeautifulSoup"
   ]
  },
  {
   "cell_type": "code",
   "execution_count": 3,
   "id": "588dfdde",
   "metadata": {
    "scrolled": true
   },
   "outputs": [],
   "source": [
    "driver.get(\"https://www.hollys.co.kr/store/korea/korStore2.do?pageNo=1&sido=&gugun=&store=\")\n",
    "\n",
    "html = driver.page_source\n",
    "soup = BeautifulSoup(html, 'html.parser')\n",
    "    \n",
    "stores = soup.select('#contents > div.content > fieldset > fieldset > div.tableType01 > table > tbody > tr')"
   ]
  },
  {
   "cell_type": "code",
   "execution_count": 4,
   "id": "ec220690",
   "metadata": {},
   "outputs": [],
   "source": [
    "store_location = stores[0].select('td')[0].text\n",
    "store_name = stores[0].select('td > a')[0].text\n",
    "store_address = stores[0].select('td > a')[1].text\n",
    "store_phone = stores[0].select('td')[-1].text"
   ]
  },
  {
   "cell_type": "code",
   "execution_count": 5,
   "id": "dca56603",
   "metadata": {},
   "outputs": [
    {
     "name": "stdout",
     "output_type": "stream",
     "text": [
      "충북 청주시 서원구 청주성화점 충청북도 청주시 서원구 신성화로 39 (성화동) 1~2층 043-233-6296\n"
     ]
    }
   ],
   "source": [
    "print(store_location, store_name, store_address, store_phone)"
   ]
  },
  {
   "cell_type": "code",
   "execution_count": 6,
   "id": "f5bd08d9",
   "metadata": {},
   "outputs": [],
   "source": [
    "def hollys_searching(page):\n",
    "    url = f\"https://www.hollys.co.kr/store/korea/korStore2.do?pageNo={page}&sido=&gugun=&store=\"\n",
    "    return url"
   ]
  },
  {
   "cell_type": "code",
   "execution_count": 7,
   "id": "cc9eeb4b",
   "metadata": {},
   "outputs": [],
   "source": [
    "import json\n",
    "import requests"
   ]
  },
  {
   "cell_type": "code",
   "execution_count": 8,
   "id": "f7fbedb0",
   "metadata": {},
   "outputs": [],
   "source": [
    "kakao_API_key = \"5e96943c943636b37f24cd5c657d92b3\""
   ]
  },
  {
   "cell_type": "code",
   "execution_count": 21,
   "id": "3843980e",
   "metadata": {},
   "outputs": [
    {
     "data": {
      "text/plain": [
       "{'documents': [],\n",
       " 'meta': {'is_end': True,\n",
       "  'pageable_count': 0,\n",
       "  'same_name': {'keyword': '02-403-0338', 'region': [], 'selected_region': ''},\n",
       "  'total_count': 0}}"
      ]
     },
     "execution_count": 21,
     "metadata": {},
     "output_type": "execute_result"
    }
   ],
   "source": [
    "phone = '02-403-0338'\n",
    "\n",
    "url = 'https://dapi.kakao.com/v2/local/search/keyword.json?query=' + phone\n",
    "headers = {\"Authorization\": f\"KakaoAK {kakao_API_key}\"}\n",
    "\n",
    "result = json.loads(str(requests.get(url, headers=headers).text))\n",
    "\n",
    "result\n",
    "# print(float(result['documents'][0]['y']), float(result['documents'][0]['x']))"
   ]
  },
  {
   "cell_type": "code",
   "execution_count": 13,
   "id": "1ffe1cf7",
   "metadata": {},
   "outputs": [],
   "source": [
    "def getLatLng(phone):\n",
    "    url = 'https://dapi.kakao.com/v2/local/search/keyword.json?query=' + phone\n",
    "    headers = {\"Authorization\": f\"KakaoAK {kakao_API_key}\"}\n",
    "\n",
    "    result = json.loads(str(requests.get(url, headers=headers).text))\n",
    "    \n",
    "    print(result)\n",
    "    \n",
    "    location = result['documents'][0]\n",
    "    \n",
    "    return float(location['y']), float(location['x'])"
   ]
  },
  {
   "cell_type": "code",
   "execution_count": 14,
   "id": "2098053b",
   "metadata": {},
   "outputs": [],
   "source": [
    "def get_store(driver):\n",
    "    html = driver.page_source\n",
    "    soup = BeautifulSoup(html, 'html.parser')\n",
    "    \n",
    "    stores = soup.select('#contents > div.content > fieldset > fieldset > div.tableType01 > table > tbody > tr')\n",
    "    \n",
    "    data = []\n",
    "    \n",
    "    for store in stores:\n",
    "        store_location = store.select('td')[0].text\n",
    "        store_name = store.select('td > a')[0].text\n",
    "        store_address = store.select('td > a')[1].text\n",
    "        store_phone = store.select('td')[-1].text\n",
    "        \n",
    "        store_lat, store_lng = getLatLng(store_phone)\n",
    "                \n",
    "        data.append([store_location, store_name, store_address, store_phone, store_lat, store_lng])\n",
    "    \n",
    "    return data"
   ]
  },
  {
   "cell_type": "code",
   "execution_count": 15,
   "id": "69ea8bc3",
   "metadata": {},
   "outputs": [
    {
     "name": "stdout",
     "output_type": "stream",
     "text": [
      "{'documents': [{'address_name': '충북 청주시 서원구 성화동 469', 'category_group_code': 'CE7', 'category_group_name': '카페', 'category_name': '음식점 > 카페 > 커피전문점 > 할리스', 'distance': '', 'id': '21907652', 'phone': '043-233-6296', 'place_name': '할리스 청주성화점', 'place_url': 'http://place.map.kakao.com/21907652', 'road_address_name': '충북 청주시 서원구 신성화로 39', 'x': '127.458144521012', 'y': '36.6184379628382'}], 'meta': {'is_end': True, 'pageable_count': 1, 'same_name': {'keyword': '043-233-6296', 'region': [], 'selected_region': ''}, 'total_count': 1}}\n",
      "{'documents': [{'address_name': '경기 안성시 서운면 신능리 111-23', 'category_group_code': 'CE7', 'category_group_name': '카페', 'category_name': '음식점 > 카페 > 커피전문점 > 할리스', 'distance': '', 'id': '85167537', 'phone': '031-674-4406', 'place_name': '할리스 안성맞춤휴게소음성방향점', 'place_url': 'http://place.map.kakao.com/85167537', 'road_address_name': '경기 안성시 서운면 평택제천고속도로 40', 'x': '127.27425049714945', 'y': '36.968148409972436'}, {'address_name': '경기 안성시 서운면 신능리 111-23', 'category_group_code': 'FD6', 'category_group_name': '음식점', 'category_name': '음식점 > 카페 > 커피전문점 > 로띠번', 'distance': '', 'id': '20015227', 'phone': '031-674-4406', 'place_name': '로띠번 안성맞춤휴게소음성방향점', 'place_url': 'http://place.map.kakao.com/20015227', 'road_address_name': '경기 안성시 서운면 평택제천고속도로 40', 'x': '127.27424807989487', 'y': '36.96810065808442'}], 'meta': {'is_end': True, 'pageable_count': 2, 'same_name': {'keyword': '031-674-4406', 'region': [], 'selected_region': ''}, 'total_count': 2}}\n",
      "{'documents': [{'address_name': '경기 안성시 서운면 신능리 51-24', 'category_group_code': 'CE7', 'category_group_name': '카페', 'category_name': '음식점 > 카페 > 커피전문점 > 할리스', 'distance': '', 'id': '1365629491', 'phone': '031-673-3822', 'place_name': '할리스 안성맞춤휴게소평택방향점', 'place_url': 'http://place.map.kakao.com/1365629491', 'road_address_name': '경기 안성시 서운면 평택제천고속도로 41', 'x': '127.27473062926826', 'y': '36.96988368930342'}, {'address_name': '경기 안성시 서운면 신능리 51-16', 'category_group_code': 'FD6', 'category_group_name': '음식점', 'category_name': '음식점 > 카페 > 커피전문점 > 로띠번', 'distance': '', 'id': '14714144', 'phone': '031-673-3822', 'place_name': '로띠번 안성맞춤휴게소평택방향점', 'place_url': 'http://place.map.kakao.com/14714144', 'road_address_name': '경기 안성시 서운면 평택제천고속도로 41', 'x': '127.274713900955', 'y': '36.9699161670358'}], 'meta': {'is_end': True, 'pageable_count': 2, 'same_name': {'keyword': '031-673-3822', 'region': [], 'selected_region': ''}, 'total_count': 2}}\n",
      "{'documents': [{'address_name': '전남 나주시 빛가람동 348-9', 'category_group_code': 'CE7', 'category_group_name': '카페', 'category_name': '음식점 > 카페 > 커피전문점 > 할리스', 'distance': '', 'id': '1783228474', 'phone': '061-334-5466', 'place_name': '할리스 나주빛가람혁신도시점', 'place_url': 'http://place.map.kakao.com/1783228474', 'road_address_name': '전남 나주시 배멧3길 5-4', 'x': '126.785798695624', 'y': '35.0187464689446'}], 'meta': {'is_end': True, 'pageable_count': 1, 'same_name': {'keyword': '061-334-5466', 'region': [], 'selected_region': ''}, 'total_count': 1}}\n",
      "{'documents': [{'address_name': '충남 공주시 정안면 전평리 5-7', 'category_group_code': '', 'category_group_name': '', 'category_name': '교통,수송 > 휴게소 > 고속도로휴게소', 'distance': '', 'id': '10720740', 'phone': '041-858-0562', 'place_name': '정안알밤상행휴게소', 'place_url': 'http://place.map.kakao.com/10720740', 'road_address_name': '충남 공주시 정안면 논산천안고속도로 58', 'x': '127.115078652119', 'y': '36.5695272317411'}, {'address_name': '충남 공주시 정안면 장원리 507', 'category_group_code': 'FD6', 'category_group_name': '음식점', 'category_name': '음식점 > 간식 > 도넛 > 던킨도너츠', 'distance': '', 'id': '19083858', 'phone': '041-858-0562', 'place_name': '던킨도너츠 정안휴게소상행점', 'place_url': 'http://place.map.kakao.com/19083858', 'road_address_name': '충남 공주시 정안면 논산천안고속도로 58', 'x': '127.115114615837', 'y': '36.5696713805763'}], 'meta': {'is_end': True, 'pageable_count': 2, 'same_name': {'keyword': '041-858-0562', 'region': [], 'selected_region': ''}, 'total_count': 2}}\n",
      "{'documents': [{'address_name': '인천 연수구 송도동 8-2', 'category_group_code': 'CE7', 'category_group_name': '카페', 'category_name': '음식점 > 카페 > 커피전문점 > 할리스', 'distance': '', 'id': '875995276', 'phone': '032-833-2808', 'place_name': '할리스 인천대입구역점', 'place_url': 'http://place.map.kakao.com/875995276', 'road_address_name': '인천 연수구 인천타워대로132번길 34', 'x': '126.6439452878631', 'y': '37.38636389411203'}], 'meta': {'is_end': True, 'pageable_count': 1, 'same_name': {'keyword': '032-833-2808', 'region': [], 'selected_region': ''}, 'total_count': 1}}\n",
      "{'documents': [], 'meta': {'is_end': True, 'pageable_count': 0, 'same_name': {'keyword': '02-403-0338', 'region': [], 'selected_region': ''}, 'total_count': 0}}\n"
     ]
    },
    {
     "ename": "IndexError",
     "evalue": "list index out of range",
     "output_type": "error",
     "traceback": [
      "\u001b[0;31m---------------------------------------------------------------------------\u001b[0m",
      "\u001b[0;31mIndexError\u001b[0m                                Traceback (most recent call last)",
      "\u001b[0;32m<ipython-input-15-83880ffaa9d6>\u001b[0m in \u001b[0;36m<module>\u001b[0;34m\u001b[0m\n\u001b[1;32m      6\u001b[0m     \u001b[0mdriver\u001b[0m\u001b[0;34m.\u001b[0m\u001b[0mget\u001b[0m\u001b[0;34m(\u001b[0m\u001b[0murl\u001b[0m\u001b[0;34m)\u001b[0m\u001b[0;34m\u001b[0m\u001b[0;34m\u001b[0m\u001b[0m\n\u001b[1;32m      7\u001b[0m \u001b[0;34m\u001b[0m\u001b[0m\n\u001b[0;32m----> 8\u001b[0;31m     \u001b[0mdata\u001b[0m \u001b[0;34m=\u001b[0m \u001b[0mget_store\u001b[0m\u001b[0;34m(\u001b[0m\u001b[0mdriver\u001b[0m\u001b[0;34m)\u001b[0m\u001b[0;34m\u001b[0m\u001b[0;34m\u001b[0m\u001b[0m\n\u001b[0m\u001b[1;32m      9\u001b[0m \u001b[0;34m\u001b[0m\u001b[0m\n\u001b[1;32m     10\u001b[0m     \u001b[0mresult\u001b[0m \u001b[0;34m+=\u001b[0m \u001b[0mdata\u001b[0m\u001b[0;34m\u001b[0m\u001b[0;34m\u001b[0m\u001b[0m\n",
      "\u001b[0;32m<ipython-input-14-8d12c74c8b5f>\u001b[0m in \u001b[0;36mget_store\u001b[0;34m(driver)\u001b[0m\n\u001b[1;32m     13\u001b[0m         \u001b[0mstore_phone\u001b[0m \u001b[0;34m=\u001b[0m \u001b[0mstore\u001b[0m\u001b[0;34m.\u001b[0m\u001b[0mselect\u001b[0m\u001b[0;34m(\u001b[0m\u001b[0;34m'td'\u001b[0m\u001b[0;34m)\u001b[0m\u001b[0;34m[\u001b[0m\u001b[0;34m-\u001b[0m\u001b[0;36m1\u001b[0m\u001b[0;34m]\u001b[0m\u001b[0;34m.\u001b[0m\u001b[0mtext\u001b[0m\u001b[0;34m\u001b[0m\u001b[0;34m\u001b[0m\u001b[0m\n\u001b[1;32m     14\u001b[0m \u001b[0;34m\u001b[0m\u001b[0m\n\u001b[0;32m---> 15\u001b[0;31m         \u001b[0mstore_lat\u001b[0m\u001b[0;34m,\u001b[0m \u001b[0mstore_lng\u001b[0m \u001b[0;34m=\u001b[0m \u001b[0mgetLatLng\u001b[0m\u001b[0;34m(\u001b[0m\u001b[0mstore_phone\u001b[0m\u001b[0;34m)\u001b[0m\u001b[0;34m\u001b[0m\u001b[0;34m\u001b[0m\u001b[0m\n\u001b[0m\u001b[1;32m     16\u001b[0m \u001b[0;34m\u001b[0m\u001b[0m\n\u001b[1;32m     17\u001b[0m         \u001b[0mdata\u001b[0m\u001b[0;34m.\u001b[0m\u001b[0mappend\u001b[0m\u001b[0;34m(\u001b[0m\u001b[0;34m[\u001b[0m\u001b[0mstore_location\u001b[0m\u001b[0;34m,\u001b[0m \u001b[0mstore_name\u001b[0m\u001b[0;34m,\u001b[0m \u001b[0mstore_address\u001b[0m\u001b[0;34m,\u001b[0m \u001b[0mstore_phone\u001b[0m\u001b[0;34m,\u001b[0m \u001b[0mstore_lat\u001b[0m\u001b[0;34m,\u001b[0m \u001b[0mstore_lng\u001b[0m\u001b[0;34m]\u001b[0m\u001b[0;34m)\u001b[0m\u001b[0;34m\u001b[0m\u001b[0;34m\u001b[0m\u001b[0m\n",
      "\u001b[0;32m<ipython-input-13-3a431c71f19b>\u001b[0m in \u001b[0;36mgetLatLng\u001b[0;34m(phone)\u001b[0m\n\u001b[1;32m      7\u001b[0m     \u001b[0mprint\u001b[0m\u001b[0;34m(\u001b[0m\u001b[0mresult\u001b[0m\u001b[0;34m)\u001b[0m\u001b[0;34m\u001b[0m\u001b[0;34m\u001b[0m\u001b[0m\n\u001b[1;32m      8\u001b[0m \u001b[0;34m\u001b[0m\u001b[0m\n\u001b[0;32m----> 9\u001b[0;31m     \u001b[0mlocation\u001b[0m \u001b[0;34m=\u001b[0m \u001b[0mresult\u001b[0m\u001b[0;34m[\u001b[0m\u001b[0;34m'documents'\u001b[0m\u001b[0;34m]\u001b[0m\u001b[0;34m[\u001b[0m\u001b[0;36m0\u001b[0m\u001b[0;34m]\u001b[0m\u001b[0;34m\u001b[0m\u001b[0;34m\u001b[0m\u001b[0m\n\u001b[0m\u001b[1;32m     10\u001b[0m \u001b[0;34m\u001b[0m\u001b[0m\n\u001b[1;32m     11\u001b[0m     \u001b[0;32mreturn\u001b[0m \u001b[0mfloat\u001b[0m\u001b[0;34m(\u001b[0m\u001b[0mlocation\u001b[0m\u001b[0;34m[\u001b[0m\u001b[0;34m'y'\u001b[0m\u001b[0;34m]\u001b[0m\u001b[0;34m)\u001b[0m\u001b[0;34m,\u001b[0m \u001b[0mfloat\u001b[0m\u001b[0;34m(\u001b[0m\u001b[0mlocation\u001b[0m\u001b[0;34m[\u001b[0m\u001b[0;34m'x'\u001b[0m\u001b[0;34m]\u001b[0m\u001b[0;34m)\u001b[0m\u001b[0;34m\u001b[0m\u001b[0;34m\u001b[0m\u001b[0m\n",
      "\u001b[0;31mIndexError\u001b[0m: list index out of range"
     ]
    }
   ],
   "source": [
    "result = []\n",
    "\n",
    "for i in range(1, 57):\n",
    "    url = hollys_searching(i)\n",
    "\n",
    "    driver.get(url)\n",
    "    \n",
    "    data = get_store(driver)\n",
    "    \n",
    "    result += data"
   ]
  },
  {
   "cell_type": "code",
   "execution_count": null,
   "id": "f0395f48",
   "metadata": {},
   "outputs": [],
   "source": [
    "len(result)"
   ]
  },
  {
   "cell_type": "code",
   "execution_count": null,
   "id": "da3a26ca",
   "metadata": {},
   "outputs": [],
   "source": [
    "import pandas as pd"
   ]
  },
  {
   "cell_type": "code",
   "execution_count": null,
   "id": "0150d1e1",
   "metadata": {},
   "outputs": [],
   "source": [
    "df = pd.DataFrame(result)\n",
    "df.columns = [\"지역\", \"매장명\", \"주소\", '위도', '경도']"
   ]
  },
  {
   "cell_type": "code",
   "execution_count": null,
   "id": "9d9ed8f1",
   "metadata": {},
   "outputs": [],
   "source": [
    "df.head()"
   ]
  },
  {
   "cell_type": "code",
   "execution_count": null,
   "id": "53234741",
   "metadata": {},
   "outputs": [],
   "source": [
    "df.to_excel('./files/hollys_stores.xlsx')"
   ]
  },
  {
   "cell_type": "code",
   "execution_count": null,
   "id": "357020fa",
   "metadata": {},
   "outputs": [],
   "source": []
  }
 ],
 "metadata": {
  "kernelspec": {
   "display_name": "Python 3",
   "language": "python",
   "name": "python3"
  },
  "language_info": {
   "codemirror_mode": {
    "name": "ipython",
    "version": 3
   },
   "file_extension": ".py",
   "mimetype": "text/x-python",
   "name": "python",
   "nbconvert_exporter": "python",
   "pygments_lexer": "ipython3",
   "version": "3.8.5"
  }
 },
 "nbformat": 4,
 "nbformat_minor": 5
}
