{
 "cells": [
  {
   "cell_type": "code",
   "execution_count": 1,
   "metadata": {},
   "outputs": [
    {
     "name": "stdout",
     "output_type": "stream",
     "text": [
      "print('구구단 몇 단을 계산할까요?')\n",
      "\n",
      "dan = input()\n",
      "\n",
      "print('구구단', dan, '단을 계산한다.')\n",
      "\n",
      "intdan = int(dan)\n",
      "\n",
      "for i in range(1,10):\n",
      "\n",
      "result = intdan*i\n",
      "\n",
      "print('%s * %d = %d\\n' % (dan, i, result))\n"
     ]
    }
   ],
   "source": [
    "f = open(\"./gugu.txt\", \"r\")\n",
    "while True:\n",
    "    line = f.readline()\n",
    "    if not line:\n",
    "        break\n",
    "    print(line)\n",
    "f.close()"
   ]
  },
  {
   "cell_type": "code",
   "execution_count": 2,
   "metadata": {},
   "outputs": [
    {
     "name": "stdout",
     "output_type": "stream",
     "text": [
      "40222\n"
     ]
    }
   ],
   "source": [
    "import csv\n",
    "f = open(\"./seoul.csv\", \"r\", encoding='euc-kr')\n",
    "read = csv.reader(f)\n",
    "linecount = list(enumerate(read, start=1))\n",
    "print(linecount[-1][0])"
   ]
  },
  {
   "cell_type": "code",
   "execution_count": 3,
   "metadata": {},
   "outputs": [
    {
     "name": "stdout",
     "output_type": "stream",
     "text": [
      "1번 문제\n",
      "1 1\n",
      "1 + 1 = 2\n",
      "1 - 1 = 0\n",
      "1 * 1 = 1\n",
      "1 / 1 = 1\n",
      "1 % 1 = 0\n",
      "1 0\n",
      "1 + 0 = 1\n",
      "1 - 0 = 1\n",
      "1 * 0 = 0\n",
      "0 0\n",
      "2번 문제\n",
      "1 1\n",
      "1 + 1 = 2\n",
      "1 - 1 = 0\n",
      "1 * 1 = 1\n",
      "1 / 1 = 1\n",
      "1 % 1 = 0\n",
      "1 0\n",
      "1 + 0 = 1\n",
      "1 - 0 = 1\n",
      "1 * 0 = 0\n",
      "0 0\n"
     ]
    }
   ],
   "source": [
    "# 1 번 문제\n",
    "print(\"1번 문제\")\n",
    "while True:\n",
    "    # 한줄에 2수 띄어쓰기 입력\n",
    "    no1, no2 = map(int, input().split())\n",
    "\n",
    "    if no1 == 0 and no2 == 0:\n",
    "        break\n",
    "\n",
    "    print(f'{no1} + {no2} = {no1 + no2}')\n",
    "    print(f'{no1} - {no2} = {no1 - no2}')\n",
    "    print(f'{no1} * {no2} = {no1 * no2}')\n",
    "\n",
    "    if no2 != 0:\n",
    "        print(f'{no1} / {no2} = {no1 // no2}')\n",
    "        print(f'{no1} % {no2} = {no1 % no2}')\n",
    "\n",
    "\n",
    "# 2번 문제\n",
    "print(\"2번 문제\")\n",
    "while True:\n",
    "    # 한줄에 2수 띄어쓰기 입력\n",
    "    no = list(map(int, input().split()))\n",
    "\n",
    "    if no[0] == 0 and no[1] == 0:\n",
    "        break\n",
    "    \n",
    "    print(f'{no[0]} + {no[1]} = {no[0] + no[1]}')\n",
    "    print(f'{no[0]} - {no[1]} = {no[0] - no[1]}')\n",
    "    print(f'{no[0]} * {no[1]} = {no[0] * no[1]}')\n",
    "\n",
    "    if no[1] != 0:\n",
    "        print(f'{no[0]} / {no[1]} = {no[0] // no[1]}')\n",
    "        print(f'{no[0]} % {no[1]} = {no[0] % no[1]}')"
   ]
  },
  {
   "cell_type": "code",
   "execution_count": 4,
   "metadata": {},
   "outputs": [
    {
     "name": "stdout",
     "output_type": "stream",
     "text": [
      "국적코드 : A01\n",
      "성별 : 남성\n",
      "입국객수 : 106320\n",
      "전년동기 : 85815\n",
      "국적코드 : A01\n",
      "성별 : 여성\n",
      "입국객수 : 191436\n",
      "전년동기 : 125241\n",
      "국적코드 : A31\n",
      "성별 : 남성\n",
      "입국객수 : 319\n",
      "전년동기 : 299\n",
      "국적코드 : A31\n",
      "성별 : 여성\n",
      "입국객수 : 42\n",
      "전년동기 : 54\n",
      "국적코드 : A18\n",
      "성별 : 남성\n",
      "입국객수 : 158912\n",
      "전년동기 : 124486\n",
      "국적코드 : A18\n",
      "성별 : 여성\n",
      "입국객수 : 232943\n",
      "전년동기 : 163466\n"
     ]
    }
   ],
   "source": [
    "input_data = []\n",
    "\n",
    "for _ in range(6):\n",
    "    country = input(\"국적코드 : \")\n",
    "    gender = input(\"성별 : \")\n",
    "    entrance = int(input(\"입국객수 : \"))\n",
    "    lastyear = int(input(\"전년동기 : \"))\n",
    "    input_data.append([country, gender, entrance, lastyear])"
   ]
  },
  {
   "cell_type": "code",
   "execution_count": 5,
   "metadata": {},
   "outputs": [],
   "source": [
    "total_entrance = 0\n",
    "total_lastyear = 0\n",
    "for temp in input_data:\n",
    "    total_entrance += temp[2]\n",
    "    total_lastyear += temp[3]"
   ]
  },
  {
   "cell_type": "code",
   "execution_count": 6,
   "metadata": {},
   "outputs": [
    {
     "name": "stdout",
     "output_type": "stream",
     "text": [
      "[국적코드, 성별, 입국객수, 전년동기]\n",
      "['A01', '남성', 106320, 85815]\n",
      "['A01', '여성', 191436, 125241]\n",
      "['A31', '남성', 319, 299]\n",
      "['A31', '여성', 42, 54]\n",
      "['A18', '남성', 158912, 124486]\n",
      "['A18', '여성', 232943, 163466]\n",
      "입국객수 총 합계 : 689972\n",
      "전년동기 총 합계 : 499361\n"
     ]
    }
   ],
   "source": [
    "print(\"[국적코드, 성별, 입국객수, 전년동기]\")\n",
    "for temp in input_data:\n",
    "    print(temp)\n",
    "\n",
    "print(f\"입국객수 총 합계 : {total_entrance}\")\n",
    "print(f\"전년동기 총 합계 : {total_lastyear}\")"
   ]
  },
  {
   "cell_type": "code",
   "execution_count": 7,
   "metadata": {},
   "outputs": [],
   "source": [
    "import csv\n",
    "f = open('./input_data.csv', 'w', encoding='utf-8')\n",
    "wr = csv.writer(f)\n",
    "wr.writerow(['국적코드', '성별', '입국객수', '전년동기'])\n",
    "for temp in input_data:\n",
    "    wr.writerow(temp)\n",
    "f.close()"
   ]
  },
  {
   "cell_type": "code",
   "execution_count": 8,
   "metadata": {},
   "outputs": [],
   "source": [
    "import csv\n",
    "f = open('./output_data.csv', 'w', encoding='utf-8')\n",
    "wr = csv.writer(f)\n",
    "wr.writerow(['국적코드', '성별', '입국객수', '전년동기'])\n",
    "for temp in input_data:\n",
    "    wr.writerow(temp)\n",
    "wr.writerow(['입국객수 총 합계', total_entrance])\n",
    "wr.writerow(['전년동기 총 합계', total_lastyear])\n",
    "f.close()"
   ]
  },
  {
   "cell_type": "code",
   "execution_count": null,
   "metadata": {},
   "outputs": [],
   "source": []
  }
 ],
 "metadata": {
  "kernelspec": {
   "display_name": "Python 3",
   "language": "python",
   "name": "python3"
  },
  "language_info": {
   "codemirror_mode": {
    "name": "ipython",
    "version": 3
   },
   "file_extension": ".py",
   "mimetype": "text/x-python",
   "name": "python",
   "nbconvert_exporter": "python",
   "pygments_lexer": "ipython3",
   "version": "3.8.5"
  }
 },
 "nbformat": 4,
 "nbformat_minor": 5
}
